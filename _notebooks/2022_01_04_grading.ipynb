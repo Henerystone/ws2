{
 "cells": [
  {
   "attachments": {},
   "cell_type": "markdown",
   "metadata": {},
   "source": [
    "# Grading Table\n",
    "- toc: true\n",
    "- comments: true\n",
    "- permalink: /techtalk/grading\n",
    "- categories: [techtalk]"
   ]
  },
  {
   "attachments": {},
   "cell_type": "markdown",
   "metadata": {},
   "source": [
    "|Reporting Category|Student Score|College Board Score|Comments|\n",
    "|---|-----|------|-------|\n",
    "|Displays trignometric values when given three values|0|0|The code was executed well but it was lacking in the written response|\n",
    "|A game that makes particle effects|1|1|The code was well executed and it had passed all the conditions required|"
   ]
  }
 ],
 "metadata": {
  "kernelspec": {
   "display_name": "Python 3",
   "language": "python",
   "name": "python3"
  },
  "language_info": {
   "name": "python",
   "version": "3.8.10 (default, Jun 22 2022, 20:18:18) \n[GCC 9.4.0]"
  },
  "orig_nbformat": 4,
  "vscode": {
   "interpreter": {
    "hash": "916dbcbb3f70747c44a77c7bcd40155683ae19c65e1c03b4aa3499c5328201f1"
   }
  }
 },
 "nbformat": 4,
 "nbformat_minor": 2
}
