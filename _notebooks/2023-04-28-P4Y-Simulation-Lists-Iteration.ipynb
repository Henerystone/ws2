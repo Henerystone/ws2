{
 "cells": [
  {
   "attachments": {},
   "cell_type": "markdown",
   "metadata": {},
   "source": [
    "# Building Simulation/Interaction using Lists and Iteration - Student Copy\n",
    "\n",
    "- toc: true\n",
    "- badges: false\n",
    "- comments: true\n",
    "- author: Haeryn Yu, Tanisha Patil, Naja Fonseca, Amitha Sanka, Sophia Tang\n",
    "- categories: [student]\n",
    "- type: ap\n",
    "- week: 31"
   ]
  },
  {
   "attachments": {},
   "cell_type": "markdown",
   "metadata": {},
   "source": [
    "## Vocabulary\n",
    "- *Iteration*  - Repitition of a Process <br>\n",
    "- *`For Loop`* - FOR LOOP repeats a function for a set number of times; I is the number of times repeated <br>\n",
    "- *`While Loop`*  - The while loop is used to repeat a section of code an unknown number of times until a specific condition is met <br>\n",
    "- *Initialization* - What sets the counter variable to a starting value. For example (var i = 0) represents an initial value of 0. <br>\n",
    "- *Condition* - Allows the computer to know whether or not to keep repeating the loop.\n",
    "- *increment/decrement* - Modifies the counter variable after each repetition.\n",
    "- *Indexing* / *List Index* - The position of an element in a list, starting from 0 <br>\n",
    "- *`append`*, *`remove`*, *`pop`* - Various methods, append adds an element to the end, remove removes at an index, and pop removes the last item. <br>\n",
    "- *Elements [in a list]* - An item in a list. <br>\n",
    "- *Nesting* - Having one data type or function inside another data type or function, such as lists or loops. <br>\n",
    "- *array* - Another name for a list, depends on the language <br>\n",
    "- *Key* - the unique identifier associated with a value in a dictionary, such as name <br>\n",
    "- *Value* - the data associated with a key in a dictionary, such as age <br>\n",
    "- *Pair* - a key-value combination in a dictionary, such as a person's name + age <br>\n",
    "- *Mutable* - the ability to be changed or modified <br>\n",
    "- *Tuple* - an immutable ordered sequence of elements, similar to a list <br>\n",
    "- *Insertion* - the process of adding a new key-value pair to a dictionary <br>\n",
    "- *Deletion* -  the process of removing a key-value pair from a dictionary <br>\n",
    "- *Keys method/`keys()`* - a built-in Python function that returns a list of all keys in a dictionary <br>\n",
    "- *Values method/`values()`* - a built-in Python function that returns a list of all values in a dictionary <br>\n",
    "- *Items method/`items()`* - a built-in Python function that returns a list of all key-value pairs in a dictionary as tuples <br>\n",
    "- *Update method/`update()`* - a built-in Python function that updates a dictionary with key-value pairs from another dictionary or iterable <br>\n",
    "- *Clear method/`clear()`* - a built-in Python function that removes all key-value pairs from a dictionary <br>"
   ]
  },
  {
   "attachments": {},
   "cell_type": "markdown",
   "metadata": {},
   "source": [
    "Questions:\n",
    "1. Give an example of iteration.\n",
    "One example of iteration is binary search, as the program has to go through/iterate through a list in order to find a target value. The maximum number of times or guesses it takes to find the number in the list is 2^n. For example, if an element had 82 elements, it would take a maximum of 2^7 (128) times to find the number, since 2^6 (64) would not be enough.\n",
    "2. What is the difference between a for loop and while loop? That is, when would you use a for loop and when would you use a while loop?\n",
    "A for loop repeats a fixed number of times while a while loop repeats as many times as is necessary until a condition is met. You would you use a for loop if you want the program to iterate through a list the same number of times as there are elements. You would use a while loop if you want the program to keep going while a certain condition is true.\n",
    "3. In the APCSP AP exam, what number do indexes start with? **important to know**\n",
    "In the APCSP exam, the indexes start with the number 1\n",
    "4. Are dictionaries and lists mutable?\n",
    "Yes, lists and dictionaries are mutable. With dictionaries, you can add, modify, or even remove key-value pairs even after they have been created.\n",
    "\n"
   ]
  },
  {
   "attachments": {},
   "cell_type": "markdown",
   "metadata": {},
   "source": [
    "## Simulations/Interactions\n",
    "\n",
    "Building a simulation o#r interaction using lists and iteration in VS Code can be accomplished using a few simple steps:\n",
    "\n",
    "1. **Define your data**: First, you need to define the data that your simulation will be working with. This could be a list of numbers, a list of strings, or any other type of data that your simulation will be manipulating.\n",
    "\n",
    "2. **Write your simulation code:** Once you have defined your data, you can start writing the code for your simulation. This code will typically involve iterating over your list of data, performing some operation on each item in the list, and updating the list accordingly.\n",
    "\n",
    "3. **Test your simulation:** After you have written your simulation code, it is important to test it to make sure it is working as expected. You can do this by running your code and checking the output to see if it matches what you expect.\n",
    "\n",
    "4. **Refine your simulation:** Once you have tested your simulation, you may need to refine it based on the results. This could involve tweaking the code to make it more efficient, adding new features, or fixing any bugs that you have discovered.\n",
    "\n"
   ]
  },
  {
   "attachments": {},
   "cell_type": "markdown",
   "metadata": {},
   "source": [
    "#### Why use simulations?\n",
    "\n",
    "- Simulations can be useful because they can emulate real world situations without needing excessive resources (ex: money), time, or equipment. For example, a simulation of the effectiveness of a new seatbelt or airbag can be performed by simulating car crashes. This would be better than doing it in real life because you wouldn't want to place people in cars and then crash them for obvious reasons.\n",
    "- However, simulatins do assume things about the real world and can have biases. They can be oversimplified because the real world often has more complications and factors that can affect something. In the case of our car crash simulation, other things can have a big impact, such as the weather and experience of the driver. However, these things can sometimes be held constant in the simulations."
   ]
  },
  {
   "attachments": {},
   "cell_type": "markdown",
   "metadata": {},
   "source": [
    "Questions:\n",
    "1. Explain an example of something you could simulate.\n",
    "One thing that I could simulate is an airplane flying from one airport to another using a variety of flight simulators that are available. I can change different variables such as the weather to see how an airplane would respond as it makes the route to its destination.\n",
    "\n",
    "\n",
    "2. Why are simulations useful and important?\n",
    "Simulations are useful and important because they are very cost-efficient, meaning that we don't have to spend as much money on simulations as we do if we want to test something in real life. Additionally, simulations provide us with a realistic view of the real world and can be used to help make important decisions.\n",
    "\n"
   ]
  },
  {
   "attachments": {},
   "cell_type": "markdown",
   "metadata": {},
   "source": [
    "Here's a simple example of a simulation in Python that uses lists and iteration to calculate the average of a list of numbers:"
   ]
  },
  {
   "cell_type": "code",
   "execution_count": 1,
   "metadata": {},
   "outputs": [
    {
     "name": "stdout",
     "output_type": "stream",
     "text": [
      "The average of the list is: 3.0\n"
     ]
    }
   ],
   "source": [
    "# Define the list of numbers\n",
    "numbers = [1, 2, 3, 4, 5]\n",
    "\n",
    "# Initialize the sum and count variables\n",
    "sum = 0\n",
    "count = 0\n",
    "\n",
    "# Iterate over the list of numbers, adding each number to the sum\n",
    "for number in numbers:\n",
    "    sum += number\n",
    "    count += 1\n",
    "\n",
    "# Calculate the average of the list of numbers\n",
    "average = sum / count\n",
    "\n",
    "# Print the average\n",
    "print(\"The average of the list is:\", average)"
   ]
  },
  {
   "attachments": {},
   "cell_type": "markdown",
   "metadata": {},
   "source": [
    "This code defines a list of numbers, iterates over the list to calculate the sum and count of the numbers, and then calculates the average by dividing the sum by the count. Finally, it prints the average to the console."
   ]
  },
  {
   "attachments": {},
   "cell_type": "markdown",
   "metadata": {},
   "source": [
    "## Lists\n",
    "\n",
    "- Iteration statements can be used to traverse a list\n",
    "- Knowldege of exisiting algorithms that use iteration can help in constructing new algorithms. Some are:\n",
    "    - Determining a minimum or maximum value in a list\n",
    "    - Computing a sum or average of a list of numbers\n",
    "\n",
    "### What are Lists?\n",
    "- Lists are <mark>a collection of multiple elements</mark>.\n",
    "- Each sequence is demarcated with an <mark>index</mark>, starting from 0. This is known as <mark>base 0 indexing</mark>\n",
    "- In memory, it is stored as a variable name with multiple pointers to each variable stored in a certain order\n",
    "- Lists can also be called arrays\n",
    "- Lists have methods that act upon the list and change them. This moves the pointers within RAM to change the parts of the list.\n",
    "\n",
    "#### Nested Lists\n",
    "\n",
    "##### Uses of Nested lists\n",
    "Placing lists within lists allows you to have arrays of similar data together, and create complexity. <br>\n",
    "\n",
    "**Some uses include:** \n",
    "- Creating 2d Arrays \n",
    "- Storing similar, but slightly different categories (sublists)\n",
    "- Create a matrix\n",
    "\n"
   ]
  },
  {
   "attachments": {},
   "cell_type": "markdown",
   "metadata": {},
   "source": [
    "## Iteration\n",
    "Iterative statements are also called <mark>while loops</mark>, and they repeat themselves over and over until the condition for stopping is met. \n",
    "- In College Board's Pseudocode, the first is a REPEAT n TIMES loop, where the n represents some number.\n",
    "\n",
    "The second type of loop is a REPEAT UNTIL (condition) loop, where the loop will continue to run until a condition is met.\n",
    "\n",
    "Conceptually, a while loop is very similar to an if conditional, except that a while is continually executed until it's no longer true and an if is only executed once.\n",
    "\n"
   ]
  },
  {
   "attachments": {},
   "cell_type": "markdown",
   "metadata": {},
   "source": [
    "Questions:\n",
    "1. Describe a situation where you would need iteration.\n",
    "2. Describe the difference between a \"REPEAT n TIMES\" loop VS a \"REPEAT UNTIL (condition)\" loop. <mark>it is important you know this for the AP Exam</mark>"
   ]
  },
  {
   "attachments": {},
   "cell_type": "markdown",
   "metadata": {},
   "source": [
    "## Libaries\n",
    "\n",
    "- A software library contains procedures that may be used in creating new programs. \n",
    "- Existing code segments can come from internal or external sources, such as libaries or previously written code. \n",
    "- The use of libaries simplifies the task of creating complex programs.\n",
    "\n",
    "### APIs\n",
    "\n",
    "Application program interfaces (APIs) are specifications for how the procedures in a libary behave and can be used as documentation for an API/libary is necessary in understanding the behaviors provided by the API and how to use them.\n",
    "\n",
    "A file that contains procedures that can be used in a program is considered a libary.\n",
    "- API provides specifications for how procedures in a library behave and can be used. \n",
    "- Many companies use APIs for programmers to interact with their products. "
   ]
  },
  {
   "attachments": {},
   "cell_type": "markdown",
   "metadata": {},
   "source": [
    "Questions:\n",
    "1. What are some libraries that we've learned about? What are their advantages/disadvantages?\n",
    "One situation where you would need iteration is binary search, as it requires one to iterate through a sorted list of elements in order to find the target value.\n",
    "\n"
   ]
  },
  {
   "attachments": {},
   "cell_type": "markdown",
   "metadata": {},
   "source": [
    "## Dictionaries\n",
    "\n",
    "### What are Dictionaries?\n",
    "\n",
    "-  an unordered collection of key-value pairs, where each key is <mark>assigned </mark> and associated with a specific value\n",
    "- known as associative arrays, maps, or hash tables in some programming languages\n",
    "- used to store and retrieve data efficiently, as they allow fast access to values based on their associated keys\n",
    "- useful for a wide range of tasks, such as storing, indexing, and counting\n",
    "\n",
    "### What are the types of Dictionaries?\n",
    "\n",
    "## Ordered Dictionaries \n",
    "- Iterates over keys and values in the same order that the keys were inserted \n",
    "- If an entry is deleted and reinserted, then it will be moved to the end of the dictionary\n",
    "- Specially designed to keep its items ordered\n",
    "- Useful in situations where the order of insertion is important and when you need to process data in a specific order\n",
    "- If the order of the data is important, an ordered dictionary is the better choice\n",
    "\n",
    "### How to create an ordered dictionary? \n",
    "\n",
    "1. Import OrderedDict from collections \n",
    "2. Create an empty ordered dictionary by instantiating OrderedDict without providing arguments to the constructor\n",
    "3. Add key-value pairs to the dictionary by providing a key in square brackets ([]) and assigning a value to that key. \n",
    "4. Print the ordered dictionary \n",
    "5. Iterate over the items in the ordered dictionary \n",
    "\n",
    "## Regular Dictionaries \n",
    "- Mutable; can add, remove, and modify key-value pairs after they have been created\n",
    "- Used to store data values in key:value pairs\n",
    "- Can be iterated over using loops\n",
    "- If order is not important, a regular dictionary may provide better performance\n",
    "\n",
    "### How to create a regular dictionary? \n",
    "\n",
    "1. Create a variable name which will be the name of the dictionary\n",
    "2. Assign the variable to an empty set of curly braces {}\n",
    "3. Create a dictionary with the dict() OR empty curly brackets "
   ]
  },
  {
   "attachments": {},
   "cell_type": "markdown",
   "metadata": {},
   "source": [
    "Questions:\n",
    "1. Compare and contrast lists and dictionaries.\n",
    "Dictionaries have keys that are assigned to specific values while lists do not.\n",
    "2. Do dictionary keys need to be unique?\n",
    "yes"
   ]
  },
  {
   "cell_type": "code",
   "execution_count": 5,
   "metadata": {},
   "outputs": [
    {
     "name": "stdout",
     "output_type": "stream",
     "text": [
      "{'title': 'Folklore', 'artist': 'Taylor Swift', 'year': 2020, 'genre': ['Alternative/Indie', 'Pop'], 'tracks': {1: ['the 1', 7], 2: ['cardigan', 19], 3: ['the last great american dynasty', 7], 4: ['exile (ft. Bon Iver)', 10], 5: ['my tears ricochet', 7], 6: ['mirrorball', 6], 7: ['seven', 5], 8: ['august', 7], 9: ['this is me trying', 7], 10: ['illicit affairs', 8], 11: ['invisible string', 6], 12: ['mad woman', 7], 13: ['epiphany', 6], 14: ['betty', 8], 15: ['peace', 9], 16: ['hoax', 7], 17: ['the lakes', 6]}}\n"
     ]
    }
   ],
   "source": [
    "# Creating a dictionary with information about the album \"folklore\"\n",
    "folklore_album = {\n",
    "    \"title\": \"Folklore\",\n",
    "    \"artist\": \"Taylor Swift\",\n",
    "    \"year\": 2020,\n",
    "    \"genre\": [\"Alternative/Indie\", \"Pop\"],\n",
    "    \"tracks\": {\n",
    "        1: [\"the 1\", 7],\n",
    "        2: [\"cardigan\", 9],\n",
    "        3: [\"the last great american dynasty\", 7],\n",
    "        4: [\"exile (ft. Bon Iver)\", 10],\n",
    "        5: [\"my tears ricochet\", 7],\n",
    "        6: [\"mirrorball\", 6],\n",
    "        7: [\"seven\", 5],\n",
    "        8: [\"august\", 7],\n",
    "        9: [\"this is me trying\", 7],\n",
    "        10: [\"illicit affairs\", 8],\n",
    "        11: [\"invisible string\", 6],\n",
    "        12: [\"mad woman\", 7],\n",
    "        13: [\"epiphany\", 6],\n",
    "        14: [\"betty\", 8],\n",
    "        15: [\"peace\", 9],\n",
    "        16: [\"hoax\", 7],\n",
    "        17: [\"the lakes\", 6]\n",
    "    }\n",
    "}\n",
    "\n",
    "# Printing the dictionary\n",
    "print(folklore_album)"
   ]
  },
  {
   "cell_type": "code",
   "execution_count": 6,
   "metadata": {},
   "outputs": [
    {
     "name": "stdout",
     "output_type": "stream",
     "text": [
      "track #1: the 1\n",
      "    my rating: 7/10\n",
      "track #2: cardigan\n",
      "    my rating: 19/10\n",
      "track #3: the last great american dynasty\n",
      "    my rating: 7/10\n",
      "track #4: exile (ft. Bon Iver)\n",
      "    my rating: 10/10\n",
      "track #5: my tears ricochet\n",
      "    my rating: 7/10\n",
      "track #6: mirrorball\n",
      "    my rating: 6/10\n",
      "track #7: seven\n",
      "    my rating: 5/10\n",
      "track #8: august\n",
      "    my rating: 7/10\n",
      "track #9: this is me trying\n",
      "    my rating: 7/10\n",
      "track #10: illicit affairs\n",
      "    my rating: 8/10\n",
      "track #11: invisible string\n",
      "    my rating: 6/10\n",
      "track #12: mad woman\n",
      "    my rating: 7/10\n",
      "track #13: epiphany\n",
      "    my rating: 6/10\n",
      "track #14: betty\n",
      "    my rating: 8/10\n",
      "track #15: peace\n",
      "    my rating: 9/10\n",
      "track #16: hoax\n",
      "    my rating: 7/10\n",
      "track #17: the lakes\n",
      "    my rating: 6/10\n"
     ]
    }
   ],
   "source": [
    "# Here I print the tracks list in a readable format with MY rating :)\n",
    "for i in folklore_album[\"tracks\"]:\n",
    "    print(\"track #\" + str(i) + \": \" + folklore_album[\"tracks\"][i][0])\n",
    "    print(\"    my rating: \" + str(folklore_album[\"tracks\"][i][1]) + \"/10\")"
   ]
  },
  {
   "attachments": {},
   "cell_type": "markdown",
   "metadata": {},
   "source": [
    "## Code Examples"
   ]
  },
  {
   "attachments": {},
   "cell_type": "markdown",
   "metadata": {},
   "source": [
    "Reverse a list utilizing features of lists and iteration"
   ]
  },
  {
   "cell_type": "code",
   "execution_count": 1,
   "metadata": {},
   "outputs": [
    {
     "name": "stdout",
     "output_type": "stream",
     "text": [
      "List before reverse :  [1, 2, 3, 4, 5]\n"
     ]
    }
   ],
   "source": [
    "## Code Examples\n",
    "\n",
    "original_list = [1, 2, 3, 4, 5]\n",
    "print(\"List before reverse : \",original_list)\n",
    "reversed_list = []\n",
    "for value in original_list:\n",
    "  reversed_list = [value] + reversed_list\n",
    "# print(\"List after reverse : \", reversed_list)"
   ]
  },
  {
   "attachments": {},
   "cell_type": "markdown",
   "metadata": {},
   "source": [
    "Similar to insertion sort, this algorithm takes an unsorted array and returns a sorted array. Unlike insertion sort where you iterate through the each element and move the smaller elements to the front, this algorithm starts at the beginning and swaps the position of every element in the array"
   ]
  },
  {
   "cell_type": "code",
   "execution_count": 2,
   "metadata": {},
   "outputs": [
    {
     "name": "stdout",
     "output_type": "stream",
     "text": [
      "array before sort [9, 8, 4, 3, 5, 2, 6, 7, 1, 0]\n"
     ]
    }
   ],
   "source": [
    "list = [9, 8, 4, 3, 5, 2, 6, 7, 1, 0]\n",
    "print(f\"array before sort {list}\")\n",
    "def insertion_sort(list):\n",
    "    for index in range(1,len(list)): # repeats through length of the array\n",
    "        value = list[index]\n",
    "        i = index - 1\n",
    "        while i >= 0:\n",
    "            if value < list[i]:\n",
    "                list[i+1] = list[i] # shift number in slot i to the right\n",
    "                list[i] = value # shift value left into slot i\n",
    "                i = i - 1\n",
    "            else:\n",
    "                break\n",
    "\n",
    "IS = insertion_sort(list)\n",
    "# print(f\"array after sort {list}\")"
   ]
  },
  {
   "attachments": {},
   "cell_type": "markdown",
   "metadata": {},
   "source": [
    "Here is a list comprehension example, using lists to create lists."
   ]
  },
  {
   "attachments": {},
   "cell_type": "markdown",
   "metadata": {},
   "source": [
    "Below, only songs in the folklore album that have less than 7 characters in their titles are printed."
   ]
  },
  {
   "cell_type": "code",
   "execution_count": 3,
   "metadata": {},
   "outputs": [
    {
     "name": "stdout",
     "output_type": "stream",
     "text": [
      "These are the songs in Taylor Swift's folklore album that have less than 7 characters in their title\n",
      "['exile', 'august', 'betty', 'peace']\n"
     ]
    }
   ],
   "source": [
    "TS_folklore = [\"exile\", \"my tears ricochet\", \"this is me trying\", \"illicit affairs\", \"august\", \"mirrorball\", \"betty\", \"mad woman\", \"epiphany\", \"peace\", \"cardigan\"]\n",
    "\n",
    "# this list is only songs that have less than 10 characters in the title\n",
    "TS_folklore_updated = [x for x in TS_folklore if len(x) < 7]\n",
    "\n",
    "print(\"These are the songs in Taylor Swift's folklore album that have less than 7 characters in their title\")\n",
    "print(TS_folklore_updated)\n"
   ]
  },
  {
   "attachments": {},
   "cell_type": "markdown",
   "metadata": {},
   "source": [
    "Below, only songs that have a rating greater than 7 will be printed."
   ]
  },
  {
   "cell_type": "code",
   "execution_count": 4,
   "metadata": {},
   "outputs": [
    {
     "name": "stdout",
     "output_type": "stream",
     "text": [
      "These are the songs in Taylor Swift's folklore album that I give a rating greater than 7\n",
      "{'exile': 8, 'illicit affairs': 8, 'peace': 10, 'cardigan': 10}\n"
     ]
    }
   ],
   "source": [
    "TS_folklore_ratings = {\"exile\": 8, \"my tears ricochet\": 6, \"this is me trying\": 7, \"illicit affairs\": 8, \"august\": 4, \"mirrorball\": 3, \"betty\": 6, \"mad woman\": 6, \"epiphany\": 2, \"peace\": 10, \"cardigan\": 10}\n",
    "TS_folklore_best = {k:v for (k,v) in TS_folklore_ratings.items() if v>7}\n",
    "\n",
    "print(\"These are the songs in Taylor Swift's folklore album that I give a rating greater than 7\")\n",
    "print(TS_folklore_best)\n"
   ]
  },
  {
   "attachments": {},
   "cell_type": "markdown",
   "metadata": {},
   "source": [
    "Questions:\n",
    "1. How is list comprehension similar to iteration?\n",
    "List comprehension is similar to iteration in that they both involve repeating the same code as many times as is necessary until a specific condition is fulfilled."
   ]
  },
  {
   "attachments": {},
   "cell_type": "markdown",
   "metadata": {},
   "source": [
    "Kahoot:"
   ]
  },
  {
   "attachments": {
    "image.png": {
     "image/png": "[encoded data removed]"
    }
   },
   "cell_type": "markdown",
   "metadata": {},
   "source": [
    "![image.png](attachment:image.png)"
   ]
  },
  {
   "cell_type": "code",
   "execution_count": null,
   "metadata": {},
   "outputs": [],
   "source": [
    "num_list = [3,11,6,1,5,10,8,4,0,2,7]\n",
    "\n",
    "def bubble_sort(num_list):\n",
    "    n = len(num_list)\n",
    "\n",
    "    for i in range(n):\n",
    "\n",
    "        already_sorted = True\n",
    "\n",
    "        for j in range(n - i - 1):\n",
    "            if num_list[j] > num_list[j + 1]:\n",
    "                \n",
    "                num_list[j], num_list[j + 1] = num_list[j + 1], num_list[j]\n",
    "\n",
    "              \n",
    "                already_sorted = False\n",
    "\n",
    "       \n",
    "        if already_sorted:\n",
    "            break\n",
    "\n",
    "    return num_list\n",
    "\n",
    "bubble_sort(num_list)"
   ]
  },
  {
   "cell_type": "code",
   "execution_count": null,
   "metadata": {},
   "outputs": [],
   "source": [
    "def get_data():\n",
    "  print(\n",
    "    \"Welcome to the data set calculator! Here you can input a set of data and find out all sorts of information about it!\"\n",
    "  )\n",
    "  complete = False \n",
    "  while not complete: # the program will continue to ask the user to input data points while this is true\n",
    "    try:\n",
    "      data = float(input(\"Enter a data point: \"))\n",
    "      data_set.append(data)\n",
    "    except:\n",
    "      print(\"Invalid input. Please input a number\")\n",
    "    answer = input(\"Would you like to keep entering points? (y/n) \")\n",
    "    if answer.upper() == \"N\":\n",
    "      complete = True # if the user wishes to stop entering data points, the boolean variable complete evaluates to True\n",
    "\n",
    "  return data_set\n",
    "\n",
    "\n",
    "def mean(data_set):\n",
    "  return sum(data_set) / len(data_set) # sum of all numbers in the data set divided by its length\n",
    "\n",
    "\n",
    "def median(data_set):\n",
    "  length = len(data_set)\n",
    "  if length % 2 == 1: # if the length of the list is an odd number, just return the number in the middle of the list\n",
    "    return data_set[length // 2]\n",
    "  return (data_set[length // 2] + data_set[length // 2 - 1]) / 2 # if the length of the list is en even number, find the average of the two middle elements of the list\n",
    "\n",
    "\n",
    "def mode(data_set):\n",
    "  occurences = dict() \n",
    "  for num in data_set:\n",
    "    if num in occurences.keys(): # mapping each number itself to the number of times that it occurs\n",
    "      occurences[num] += 1 # if the number exists, add one more of it to the list\n",
    "    else:\n",
    "      occurences[num] = 1 # if the number is not already in the list, add it to the list\n",
    "\n",
    "  mode, most_times = None, 0 # mode corresponds to the number that appears the most times\n",
    "  for number, count in occurences.items():\n",
    "    if count > most_times:\n",
    "      mode, most_times = number, count\n",
    "  return mode\n",
    "\n",
    "\n",
    "# bubble sorting algorithm\n",
    "def sort(data_set):\n",
    "  length = len(data_set)\n",
    "\n",
    "  for i in range(length):\n",
    "    for j in range(0, length - i - 1):\n",
    "      if data_set[j] > data_set[j + 1]:\n",
    "        data_set[j], data_set[j + 1] = data_set[j + 1], data_set[j]\n",
    "\n",
    "  return data_set\n",
    "\n",
    "\n",
    "def main():\n",
    "  data_set = get_data()\n",
    "  print(f'Unsorted List: {data_set}')\n",
    "  sorted_data_set = sort(data_set)\n",
    "  print(f\"Sorted list: {sorted_data_set}\")\n",
    "  print(f'The mean of your data set is {mean(data_set)}')\n",
    "  print(f'The median of your data set is {median(data_set)}')\n",
    "  print(f'The mode of your data set is {mode(data_set)}')\n",
    "\n",
    "data_set = []\n",
    "\n",
    "main()"
   ]
  }
 ],
 "metadata": {
  "kernelspec": {
   "display_name": "base",
   "language": "python",
   "name": "python3"
  },
  "language_info": {
   "codemirror_mode": {
    "name": "ipython",
    "version": 3
   },
   "file_extension": ".py",
   "mimetype": "text/x-python",
   "name": "python",
   "nbconvert_exporter": "python",
   "pygments_lexer": "ipython3",
   "version": "3.9.12"
  },
  "orig_nbformat": 4
 },
 "nbformat": 4,
 "nbformat_minor": 2
}
