{
 "cells": [
  {
   "attachments": {},
   "cell_type": "markdown",
   "metadata": {},
   "source": [
    "# Test Corrections 3\n",
    "\n",
    "- toc: true\n",
    "- comments: true\n",
    "- permalink: /techtalk/test_correct_3\n",
    "- image: /images/bash.jpeg\n",
    "- categories: [techtalk]"
   ]
  },
  {
   "attachments": {},
   "cell_type": "markdown",
   "metadata": {},
   "source": [
    "- Q5\n",
    ">   I got the question wrong because I did not read the question properly and did not spend as much time on it.\n",
    "\n",
    "- Q13\n",
    ">   I got the question wrong because I did not understand the question\n",
    "\n",
    "- Q14\n",
    ">   I got the question wrong due to a silly mistake\n",
    "\n",
    "- Q15\n",
    ">   I got the question wrong because option B seems a better option than option C.\n",
    "\n",
    "- Q29\n",
    ">   I got the question wrong because I did not fully analyse the scenario\n",
    "\n",
    "- Q31\n",
    ">   I got the question wrong because I was extremely confused on the question.\n",
    "\n",
    "- Q32\n",
    ">   I got the question wrong because I did not run through all the scenarios\n",
    "\n",
    "- Q34\n",
    ">   I got the question wrong because I did not finish with reading the question.\n",
    "\n",
    "- Q40\n",
    ">   I made the same mistake I made on question 34\n",
    "\n",
    "- Q41\n",
    ">   I got the question wrong because I did not fully understand the concept of bianary search\n",
    "\n",
    "- Q45\n",
    ">   I got the the first option right but I did not get the second one right\n",
    "\n",
    "- Q48\n",
    ">   I made the same mistake as Q45\n",
    "\n",
    "- Q49\n",
    ">   I got the question wrong because I did not know how to answer it.\n",
    "\n",
    "- Q50\n",
    ">   I got the question wrong because I did not read the entire scenario"
   ]
  }
 ],
 "metadata": {
  "language_info": {
   "name": "python"
  },
  "orig_nbformat": 4
 },
 "nbformat": 4,
 "nbformat_minor": 2
}
