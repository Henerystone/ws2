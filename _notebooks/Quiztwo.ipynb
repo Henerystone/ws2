{
 "cells": [
  {
   "cell_type": "markdown",
   "metadata": {},
   "source": [
    "# Chess is cool: The sequel"
   ]
  },
  {
   "cell_type": "markdown",
   "metadata": {},
   "source": [
    "This is another chess quiz because why not."
   ]
  },
  {
   "cell_type": "code",
   "execution_count": 11,
   "metadata": {},
   "outputs": [
    {
     "name": "stdout",
     "output_type": "stream",
     "text": [
      "Incorrect\n",
      "Incorrect\n",
      "Incorrect\n",
      "Score:  0\n"
     ]
    }
   ],
   "source": [
    "\n",
    "Quiz = ({\n",
    "    \"How many spaces can a pawn move on its first turn?\": \"2\",\n",
    "    \"How many spaces can a pawn move on its second turn?\": \"1\",\n",
    "    \"How many pawns exist on one side inn a chess game?\": \"8\"\n",
    "})\n",
    "correct = 0\n",
    "for key, value in Quiz.items():\n",
    "    questions = input(key)\n",
    "    if questions == value:\n",
    "        print(\"Correct\")\n",
    "        correct+=1\n",
    "    else:\n",
    "        print(\"Incorrect\")\n",
    "print(\"Score: \",correct)\n",
    "          \n",
    "    "
   ]
  }
 ],
 "metadata": {
  "kernelspec": {
   "display_name": "Python 3.8.10 64-bit",
   "language": "python",
   "name": "python3"
  },
  "language_info": {
   "codemirror_mode": {
    "name": "ipython",
    "version": 3
   },
   "file_extension": ".py",
   "mimetype": "text/x-python",
   "name": "python",
   "nbconvert_exporter": "python",
   "pygments_lexer": "ipython3",
   "version": "3.8.10"
  },
  "orig_nbformat": 4,
  "vscode": {
   "interpreter": {
    "hash": "916dbcbb3f70747c44a77c7bcd40155683ae19c65e1c03b4aa3499c5328201f1"
   }
  }
 },
 "nbformat": 4,
 "nbformat_minor": 2
}
