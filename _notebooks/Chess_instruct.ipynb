{
 "cells": [
  {
   "cell_type": "markdown",
   "metadata": {},
   "source": [
    "# Chess Guide\n",
    "- toc: true\n",
    "- comments: true\n",
    "- permalink: /techtalk/bash\n",
    "- categories: [chess]"
   ]
  },
  {
   "cell_type": "markdown",
   "metadata": {},
   "source": [
    "This is a guide on how to play chess."
   ]
  },
  {
   "cell_type": "markdown",
   "metadata": {},
   "source": [
    "Chess is an incredibly strategic game that is played by millions of people world wide.\n",
    "Chess can get incredibly advanced but one must start with the basics."
   ]
  }
 ],
 "metadata": {
  "kernelspec": {
   "display_name": "Python 3.9.12 ('base')",
   "language": "python",
   "name": "python3"
  },
  "language_info": {
   "name": "python",
   "version": "3.9.12"
  },
  "orig_nbformat": 4,
  "vscode": {
   "interpreter": {
    "hash": "932358070cd585288caba8d82491164e980e9cdabc0d83472e591525fb8e0ba7"
   }
  }
 },
 "nbformat": 4,
 "nbformat_minor": 2
}
