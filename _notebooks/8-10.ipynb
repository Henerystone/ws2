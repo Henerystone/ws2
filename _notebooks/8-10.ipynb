{
 "cells": [
  {
   "cell_type": "markdown",
   "metadata": {},
   "source": [
    "# Section 8-10 notes and Homework\n",
    "> Try to complete this to show understanding! Copy this into your notebook so you can also take notes as we lecture. Make a copy of this notebook to your own repository to take notes, do the class challenges, and to access the homework.\n",
    "- title: Lists and Iteration Homework\n",
    "- toc: true\n",
    "- permalink: /homework/"
   ]
  },
  {
   "cell_type": "markdown",
   "metadata": {},
   "source": [
    "- Lists are a good way to organize and collect data in a program, as they allow a set of potentially very different items to be found within one object.\n",
    "- Items in lists are located with indexes, which, in most code languages, start with 0 (though the pseudocode used by CollegeBoard usually starts at 1!).\n",
    "- Using functions like append(), pop(), and insert(), you can add new things to a list or remove them.\n",
    "Keeping items within lists allow you to apply a function to each item of a list using iteration.\n",
    "\n",
    "- Iteration is the repetition of a function. Allowing a function to repeat on its own based on various conditions can vastly optimize a program.\n",
    "- Iteration is most often done with loops, typically in combination with lists and/or dictionaries.\n",
    "- There are multiple types of loops, and while most types can, in some way, do the same thing as other types, some things are simpler to do with certain loops than others.\n",
    "Iteration and loops go together like bread and butter."
   ]
  },
  {
   "cell_type": "markdown",
   "metadata": {},
   "source": [
    "## Overview and Notes:  3.10 - Lists\n",
    "- Make sure you complete the challenge in the challenges section while we present the lesson! \n",
    "\n",
    "Add your <mark>OWN</mark> Notes for 3.10 here: \n",
    "\n",
    "\n",
    "Fill out the empty boxes: \n",
    "\n",
    "|   Pseudocode Operation  | Python Syntax |                                                           Description                                                          |\n",
    "|:-----------------------:|---------------|:------------------------------------------------------------------------------------------------------------------------------:|\n",
    "|         aList(i)        |       aList[i]        | _Accesses the element of aList at index i_                                                                                     |\n",
    "|       x ← aList[i]      |       x = aList(i)       | _Assigns the element of aList at index i <br>to a variable 'x'_                                                                |\n",
    "|       aList[i]<-x      |      aList(i) = x         | _Assigns the value of a variable 'x' to <br>the element of a List at index i_                                                  |\n",
    "|   aList[i] ← aList[j]   |       aList[i]=aList[j]        | _Assigns value of aList[j] to aList[i]_                                                                                        |\n",
    "| insert(aList, value)|       aList.insert(i, value)        | _value is placed at index i in aList. Any <br>element at an index greater than i will shift<br>one position to the right. _    |\n",
    "|   APPEND(aList, value)  |      aList.append(value) | added as an element to the end of a list |\n",
    "|  REMOVE(aList, i)    |      aList.pop(i)<br>OR<br>aList.remove(value)         | _Removes item at index i and any values at <br>indices greater than i shift to the left. <br>Length of aList decreased by 1. _ |\n"
   ]
  },
  {
   "cell_type": "markdown",
   "metadata": {},
   "source": [
    "## Overview and Notes:  3.8 - Iteration\n",
    "\n",
    "Add your <mark>OWN</mark> Notes for 3.8 here: \n",
    "\n",
    "\n"
   ]
  },
  {
   "cell_type": "markdown",
   "metadata": {},
   "source": [
    "## Homework Assignment\n",
    "\n",
    "Instead of us making a quiz for you to take, we would like YOU to make a quiz about the material we reviewed.\n",
    "\n",
    "We would like you to <mark>input questions into a list</mark>, and use some sort of iterative system to print the questions, detect an input, and determine if you answered correctly. There should be *at least* <mark>five questions</mark>, each with *at least* <mark>three possible answers</mark>.\n",
    "\n",
    "You may use the template below as a framework for this assignment."
   ]
  },
  {
   "cell_type": "code",
   "execution_count": 5,
   "metadata": {},
   "outputs": [
    {
     "ename": "TypeError",
     "evalue": "'list' object is not callable",
     "output_type": "error",
     "traceback": [
      "\u001b[0;31m---------------------------------------------------------------------------\u001b[0m",
      "\u001b[0;31mTypeError\u001b[0m                                 Traceback (most recent call last)",
      "\u001b[1;32m/home/shreyas/vscode/ws2/_notebooks/8-10.ipynb Cell 6\u001b[0m in \u001b[0;36m<cell line: 13>\u001b[0;34m()\u001b[0m\n\u001b[1;32m     <a href='vscode-notebook-cell://wsl%2Bubuntu/home/shreyas/vscode/ws2/_notebooks/8-10.ipynb#W5sdnNjb2RlLXJlbW90ZQ%3D%3D?line=9'>10</a>\u001b[0m         \u001b[39mif\u001b[39;00m ans \u001b[39m==\u001b[39m (questions(i)(\u001b[39m2\u001b[39m)):\n\u001b[1;32m     <a href='vscode-notebook-cell://wsl%2Bubuntu/home/shreyas/vscode/ws2/_notebooks/8-10.ipynb#W5sdnNjb2RlLXJlbW90ZQ%3D%3D?line=10'>11</a>\u001b[0m             \u001b[39mprint\u001b[39m(\u001b[39m\"\u001b[39m\u001b[39mcorrect\u001b[39m\u001b[39m\"\u001b[39m)\n\u001b[0;32m---> <a href='vscode-notebook-cell://wsl%2Bubuntu/home/shreyas/vscode/ws2/_notebooks/8-10.ipynb#W5sdnNjb2RlLXJlbW90ZQ%3D%3D?line=12'>13</a>\u001b[0m questionloop()\n",
      "\u001b[1;32m/home/shreyas/vscode/ws2/_notebooks/8-10.ipynb Cell 6\u001b[0m in \u001b[0;36mquestionloop\u001b[0;34m()\u001b[0m\n\u001b[1;32m      <a href='vscode-notebook-cell://wsl%2Bubuntu/home/shreyas/vscode/ws2/_notebooks/8-10.ipynb#W5sdnNjb2RlLXJlbW90ZQ%3D%3D?line=7'>8</a>\u001b[0m \u001b[39mfor\u001b[39;00m i \u001b[39min\u001b[39;00m \u001b[39mrange\u001b[39m(\u001b[39mlen\u001b[39m(questions)):\n\u001b[1;32m      <a href='vscode-notebook-cell://wsl%2Bubuntu/home/shreyas/vscode/ws2/_notebooks/8-10.ipynb#W5sdnNjb2RlLXJlbW90ZQ%3D%3D?line=8'>9</a>\u001b[0m     ans \u001b[39m=\u001b[39m \u001b[39minput\u001b[39m(i)\n\u001b[0;32m---> <a href='vscode-notebook-cell://wsl%2Bubuntu/home/shreyas/vscode/ws2/_notebooks/8-10.ipynb#W5sdnNjb2RlLXJlbW90ZQ%3D%3D?line=9'>10</a>\u001b[0m     \u001b[39mif\u001b[39;00m ans \u001b[39m==\u001b[39m (questions(i)(\u001b[39m2\u001b[39m)):\n\u001b[1;32m     <a href='vscode-notebook-cell://wsl%2Bubuntu/home/shreyas/vscode/ws2/_notebooks/8-10.ipynb#W5sdnNjb2RlLXJlbW90ZQ%3D%3D?line=10'>11</a>\u001b[0m         \u001b[39mprint\u001b[39m(\u001b[39m\"\u001b[39m\u001b[39mcorrect\u001b[39m\u001b[39m\"\u001b[39m)\n",
      "\u001b[0;31mTypeError\u001b[0m: 'list' object is not callable"
     ]
    }
   ],
   "source": [
    "questions = [\n",
    "    (\"what is a list?\",\"a set of objects\"),\n",
    "    (\"what is an iteration\", \"a loop\"),\n",
    "    (\"what functions can you use for lists and iterations\", \"append, pop\")\n",
    "]\n",
    "\n",
    "def questionloop():\n",
    "    for i in range(len(questions)):\n",
    "        ans = input(i)\n",
    "        if ans == (questions(i)(2)):\n",
    "            print(\"correct\")\n",
    "            \n",
    "questionloop()\n",
    "        \n",
    "\n"
   ]
  },
  {
   "cell_type": "markdown",
   "metadata": {},
   "source": [
    "### Reflection\n",
    "\n",
    "I made a list and iterated through it until all questions were answered and checked. I wasn't able to finish the entire thing and I messed up on the checking part."
   ]
  },
  {
   "cell_type": "markdown",
   "metadata": {},
   "source": [
    "### Hacks\n",
    "\n",
    "Here are some ideas of things you can do to make your program even cooler. Doing these will raise your grade if done correctly.\n",
    "\n",
    "- Add more than five questions with more than three answer choices\n",
    "- Randomize the order in which questions/answers are output\n",
    "- At the end, display the user's score and determine whether or not they passed\n",
    "\n",
    "## Challenges\n",
    "\n",
    "<mark>Important!</mark> You don't have to complete these challenges completely perfectly, but you will be marked down if you don't show evidence of at least having tried these challenges in the time we gave during the lesson.\n",
    "\n",
    "### 3.10 Challenge\n",
    "\n",
    "Follow the instructions in the code comments."
   ]
  },
  {
   "cell_type": "code",
   "execution_count": 10,
   "metadata": {},
   "outputs": [
    {
     "name": "stdout",
     "output_type": "stream",
     "text": [
      "cucumbers\n",
      "cucumbers\n",
      "['apples', 'umbrella', 'oranges', 'carrots', 'cucumbers', 'umbrella', 'artichokes']\n"
     ]
    }
   ],
   "source": [
    "grocery_list = ['apples', 'milk', 'oranges', 'carrots', 'cucumbers']\n",
    "\n",
    "# Print the fourth item in the list\n",
    "print(grocery_list[4])\n",
    "\n",
    "# Now, assign the fourth item in the list to a variable, x and then print the variable\n",
    "x = grocery_list[4]\n",
    "print(x)\n",
    "\n",
    "# Add these two items at the end of the list : umbrellas and artichokes\n",
    "grocery_list.append(\"umbrella\")\n",
    "grocery_list.append(\"artichokes\")\n",
    "\n",
    "# Insert the item eggs as the third item of the list \n",
    "grocery_list.insert(2,\"eggs\")\n",
    "\n",
    "# Remove milk from the list \n",
    "grocery_list.remove(\"milk\")\n",
    "\n",
    "# Assign the element at the end of the list to index 2. Print index 2 to check\n",
    "\n",
    "grocery_list[1]=grocery_list[5]\n",
    "\n",
    "# Print the entire list, does it match ours ? \n",
    "\n",
    "\n",
    "# Expected output\n",
    "# carrots\n",
    "# carrots\n",
    "# artichokes\n",
    "# ['apples', 'eggs', 'artichokes', 'carrots', 'cucumbers', 'umbrellas', 'artichokes']\n",
    "print(grocery_list)"
   ]
  },
  {
   "cell_type": "markdown",
   "metadata": {},
   "source": [
    "### 3.8 Challenge\n",
    "\n",
    "Create a loop that <mark>converts 8-bit binary values</mark> from the provided list into <mark>decimal numbers</mark>. Then, after the value is determined, <mark>remove all the values greater than 100</mark> from the list using a list-related function you've been taught before. <mark>Print the new list</mark> when done.\n",
    "\n",
    "Once you've done this with one of the types of loops discussed in this lesson, create a function that does the same thing with a *different* type of loop."
   ]
  },
  {
   "cell_type": "code",
   "execution_count": null,
   "metadata": {},
   "outputs": [],
   "source": [
    "binarylist = [\n",
    "    \"01001001\", \"10101010\", \"10010110\", \"00110111\", \"11101100\", \"11010001\", \"10000001\"\n",
    "]\n",
    "\n",
    "def binary_convert(binary):\n",
    "    \n",
    "    #use this function to convert every binary value in binarylist to decimal\n",
    "    #afterward, get rid of the values that are greater than 100 in decimal\n",
    "\n",
    "#when done, print the results"
   ]
  },
  {
   "cell_type": "code",
   "execution_count": 11,
   "metadata": {},
   "outputs": [
    {
     "name": "stdout",
     "output_type": "stream",
     "text": [
      "Drew's pets:\n",
      "Dogs: 1\n",
      "Cats: 1\n",
      "Fish: 0\n",
      "\n",
      "AJ's pets:\n",
      "Dogs: 1\n",
      "Cats: 0\n",
      "Fish: 329\n",
      "\n",
      "Johnny's pets:\n",
      "Dogs: 2\n",
      "Cats: 0\n",
      "Fish: 0\n",
      "\n"
     ]
    }
   ],
   "source": [
    "drewpets = [(\"Drew\", ({\"dogs\": 1, \"cats\": 1, \"fish\": 0}))]\n",
    "ajpets = [(\"AJ\", {\"dogs\": 1, \"cats\": 0, \"fish\": 329})]\n",
    "johnnypets = [(\"Johnny\", {\"dogs\": 2, \"cats\": 0, \"fish\": 0})]\n",
    "allpets = [drewpets, ajpets, johnnypets] #a collection of all pet lists\n",
    "\n",
    "for person in allpets:\n",
    "    for name, dict in person: #unpacking the name and dictionary\n",
    "        print(name + \"'s pets:\")\n",
    "        for pet, num in dict.items(): #use .items() to go through keys and values\n",
    "            print(pet.capitalize() + \":\", num) #capitalizes first letter\n",
    "    print(\"\")"
   ]
  }
 ],
 "metadata": {
  "kernelspec": {
   "display_name": "Python 3.8.10 64-bit",
   "language": "python",
   "name": "python3"
  },
  "language_info": {
   "codemirror_mode": {
    "name": "ipython",
    "version": 3
   },
   "file_extension": ".py",
   "mimetype": "text/x-python",
   "name": "python",
   "nbconvert_exporter": "python",
   "pygments_lexer": "ipython3",
   "version": "3.8.10"
  },
  "orig_nbformat": 4,
  "vscode": {
   "interpreter": {
    "hash": "916dbcbb3f70747c44a77c7bcd40155683ae19c65e1c03b4aa3499c5328201f1"
   }
  }
 },
 "nbformat": 4,
 "nbformat_minor": 2
}
