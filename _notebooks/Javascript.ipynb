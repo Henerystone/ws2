{
 "cells": [
  {
   "cell_type": "code",
   "execution_count": 16,
   "metadata": {},
   "outputs": [
    {
     "name": "stdout",
     "output_type": "stream",
     "text": [
      "Chess { name: 'Shreyas', rank: 1900, yrsplay: 5, exp: 'Intermediate' }\n"
     ]
    }
   ],
   "source": [
    "function type(output){\n",
    "    console.log(output);\n",
    "}\n",
    "\n",
    "function Chess(name, rank, yrsplay){\n",
    "    this.name = name;\n",
    "    this.rank = rank;\n",
    "    this.yrsplay = yrsplay;\n",
    "    this.exp = \"\"\n",
    "}\n",
    "\n",
    "Chess.prototype.setExp = function(exp){\n",
    "    this.exp = exp;\n",
    "}\n",
    "\n",
    "Chess.prototype.toJSON = function(){\n",
    "    const obj = {name: this.name, rank: this.rank, yrsplay: this.yrsplay, exp: this.exp};\n",
    "    const json = JSON.stringify(obj);\n",
    "    return json;\n",
    "}\n",
    "\n",
    "var shreyas = new Chess(\"Shreyas\", 1900 , 5);\n",
    "\n",
    "shreyas.setExp(\"Intermediate\");\n",
    "\n",
    "type(shreyas);"
   ]
  }
 ],
 "metadata": {
  "kernelspec": {
   "display_name": "JavaScript (Node.js)",
   "language": "javascript",
   "name": "javascript"
  },
  "language_info": {
   "file_extension": ".js",
   "mimetype": "application/javascript",
   "name": "javascript",
   "version": "6.11.2"
  },
  "orig_nbformat": 4
 },
 "nbformat": 4,
 "nbformat_minor": 2
}
