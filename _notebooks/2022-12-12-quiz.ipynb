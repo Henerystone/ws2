{
 "cells": [
  {
   "cell_type": "markdown",
   "metadata": {},
   "source": [
    "# Chess Quiz two\n",
    "- toc: true\n",
    "- comments: true\n",
    "- permalink: /chesscode/chessquiz\n",
    "- categories: [chesscode]"
   ]
  },
  {
   "cell_type": "code",
   "execution_count": null,
   "metadata": {},
   "outputs": [],
   "source": [
    "Quiz = ({\n",
    "    \"How many spaces can a pawn move on its first turn?\": \"2\",\n",
    "    \"How many spaces can a pawn move on its second turn?\": \"1\",\n",
    "    \"How many pawns exist on one side inn a chess game?\": \"8\"\n",
    "})\n",
    "correct = 0\n",
    "for key, value in Quiz.items():\n",
    "    questions = input(key)\n",
    "    if questions == value:\n",
    "        print(\"Correct\")\n",
    "        correct+=1\n",
    "    else:\n",
    "        print(\"Incorrect\")\n",
    "print(\"Score: \",correct)"
   ]
  }
 ],
 "metadata": {
  "kernelspec": {
   "display_name": "Python 3.8.10 64-bit",
   "language": "python",
   "name": "python3"
  },
  "language_info": {
   "name": "python",
   "version": "3.8.10 (default, Jun 22 2022, 20:18:18) \n[GCC 9.4.0]"
  },
  "orig_nbformat": 4,
  "vscode": {
   "interpreter": {
    "hash": "916dbcbb3f70747c44a77c7bcd40155683ae19c65e1c03b4aa3499c5328201f1"
   }
  }
 },
 "nbformat": 4,
 "nbformat_minor": 2
}
