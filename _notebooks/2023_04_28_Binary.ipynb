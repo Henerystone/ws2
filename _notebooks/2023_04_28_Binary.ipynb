{
 "cells": [
  {
   "attachments": {},
   "cell_type": "markdown",
   "metadata": {},
   "source": [
    "# Binary Search Hacks\n",
    "- toc: true\n",
    "- comments: true\n",
    "- permalink: /techtalk/Binarysear\n",
    "- image: /images/bash.jpeg\n",
    "- categories: [techtalk]"
   ]
  },
  {
   "cell_type": "markdown",
   "metadata": {},
   "source": []
  }
 ],
 "metadata": {
  "language_info": {
   "name": "python"
  },
  "orig_nbformat": 4
 },
 "nbformat": 4,
 "nbformat_minor": 2
}
