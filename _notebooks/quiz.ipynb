{
 "cells": [
  {
   "cell_type": "code",
   "execution_count": null,
   "metadata": {},
   "outputs": [],
   "source": [
    "Quiz = ({\n",
    "    \"How many spaces can a pawn move on its first turn?\": \"2\",\n",
    "    \"How many spaces can a pawn move on its second turn?\": \"1\",\n",
    "    \"How many pawns exist on one side inn a chess game?\": \"8\"\n",
    "})\n",
    "correct = 0\n",
    "for key, value in Quiz.items():\n",
    "    questions = input(key)\n",
    "    if questions == value:\n",
    "        print(\"Correct\")\n",
    "        correct+=1\n",
    "    else:\n",
    "        print(\"Incorrect\")\n",
    "print(\"Score: \",correct)"
   ]
  }
 ],
 "metadata": {
  "language_info": {
   "name": "python"
  },
  "orig_nbformat": 4
 },
 "nbformat": 4,
 "nbformat_minor": 2
}
