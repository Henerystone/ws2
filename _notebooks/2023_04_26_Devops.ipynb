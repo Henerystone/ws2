{
 "cells": [
  {
   "attachments": {},
   "cell_type": "markdown",
   "metadata": {},
   "source": [
    "# DevOps for Dev Tools\n",
    "- toc: true\n",
    "- comments: true\n",
    "- permalink: /techtalk/devops\n",
    "- image: /images/bash.jpeg\n",
    "- categories: [techtalk]"
   ]
  },
  {
   "attachments": {},
   "cell_type": "markdown",
   "metadata": {},
   "source": [
    "## KASM Hacks:\n",
    "\n",
    "- Kasm Workspaces securely and efficiently delivers browser, desktop and application workloads to the web browser. Kasm is not just a service, but a highly configurable platform, with a robust developer API that can be customized for your use-case, at any scale.\n",
    "\n",
    "- a\n"
   ]
  },
  {
   "attachments": {},
   "cell_type": "markdown",
   "metadata": {},
   "source": [
    "## DuckDNS Hacks:\n",
    "- DuckDNS is a free service that allows you to bind your own favorite subdomain under duckdns.org to the public IP address in use from your router, even though such address is dynamically allocated by your internet service provider and therefore changes over time.\n"
   ]
  }
 ],
 "metadata": {
  "kernelspec": {
   "display_name": "base",
   "language": "python",
   "name": "python3"
  },
  "language_info": {
   "name": "python",
   "version": "3.9.12"
  },
  "orig_nbformat": 4
 },
 "nbformat": 4,
 "nbformat_minor": 2
}
