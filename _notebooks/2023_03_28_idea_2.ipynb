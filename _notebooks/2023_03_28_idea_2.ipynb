{
 "cells": [
  {
   "attachments": {},
   "cell_type": "markdown",
   "metadata": {},
   "source": [
    "# Big Idea 2 Quiz corrections\n",
    "- toc: true\n",
    "- comments: true\n",
    "- permalink: /techtalk/bigidea\n",
    "- image: /images/bash.jpeg\n",
    "- categories: [techtalk]"
   ]
  },
  {
   "attachments": {},
   "cell_type": "markdown",
   "metadata": {},
   "source": [
    "## Corrections\n",
    "- I got questions 2, 18, 20, 21, 23 wrong\n",
    "\n",
    "> Question 2:\n",
    "> I got Question 2 wrong because I did not read the question fully\n",
    "\n",
    "> Question 18:\n",
    "> I got Question 18 wrong because I did not understand the concept\n",
    "\n",
    "> Question 20:\n",
    "> I got Question 20 wrong because I did not understand the question\n",
    "\n",
    "> Question 21:\n",
    "> I got Question 21 wrong because I did not finish reading the question\n",
    "\n",
    "> Question 23:\n",
    "> I got Question 23 wrong because I did not read the question fully"
   ]
  }
 ],
 "metadata": {
  "language_info": {
   "name": "python"
  },
  "orig_nbformat": 4
 },
 "nbformat": 4,
 "nbformat_minor": 2
}
