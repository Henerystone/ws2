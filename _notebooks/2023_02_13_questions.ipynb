{
 "cells": [
  {
   "attachments": {},
   "cell_type": "markdown",
   "metadata": {},
   "source": [
    "# Questions\n",
    "- toc: true\n",
    "- comments: true\n",
    "- permalink: /techtalk/Question\n",
    "- image: /images/bash.jpeg\n",
    "- categories: [techtalk]"
   ]
  },
  {
   "attachments": {},
   "cell_type": "markdown",
   "metadata": {},
   "source": [
    "## 5.5\n",
    "\n",
    "#### Big Idea 5.5 Legal and Ethnical Concerns\n",
    "\n",
    "\n",
    "- MIT License: Closed sources and the project can be private.\n",
    "\n",
    "- Open Source GPL License: People can do anything they want except distributing the project. Github project is public, users can be sued or forced to reveal their code if they use the open source license.\n",
    "\n",
    "- Recap: Based on the discussions, it seems that MIT License is the best choice if you want your code to be private. You can also get credit with MIT License. There has been times where people have been sued or forced to reveal their code because they had a open source license.\n",
    "\n",
    "## 5.6\n",
    "\n",
    "#### Big Idea 5.6 Computing\n",
    "\n",
    "\n",
    "- Some PII I have seen on my project are the login prompt and the IP address that is to access it.\n",
    "\n",
    "- I believe that some aspects of PII are needed to make certain functions on websites or organizations to work. However, PII should only be used to a limited extent, since bank accounts and social security numbers are usually not needed and can be threatening to one’s financial situation if leaked. If some PII are not needed, then it certainly shouldn’t be asked for. I believe that my personal exposure is more on the secretive or defensive side. When I sign up on most websites, I sometimes enter a fake birthday or name in order to hide my identity for security reasons.\n",
    "\n",
    "- A good password is a very long and randomized password with a different variety of characters. A bad password is one that has an obvious pattern or is not unique, like 1234. Another step for authentication could be to use a finger print or face id. Symmetric encryption is where only one secret key is used to encrypt and decrypt info. Asymmetric cryptography uses one public key and one private key to encrypt and decrypt a message and protect it from unauthorized access.\n",
    "\n",
    "- I have never fallen for a phishing scheme but several other people (who are not as good) fall for schemes that steal personal info or money."
   ]
  }
 ],
 "metadata": {
  "language_info": {
   "name": "python"
  },
  "orig_nbformat": 4
 },
 "nbformat": 4,
 "nbformat_minor": 2
}
