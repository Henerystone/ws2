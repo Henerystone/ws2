{
 "cells": [
  {
   "attachments": {},
   "cell_type": "markdown",
   "metadata": {},
   "source": [
    "# Project Blog and Digital Divide\n",
    "\n",
    "- toc: true\n",
    "- comments: true\n",
    "- permalink: /techtalk/approve\n",
    "- image: /images/bash.jpeg\n",
    "- categories: [techtalk]"
   ]
  },
  {
   "attachments": {},
   "cell_type": "markdown",
   "metadata": {},
   "source": [
    "- Our project must follow all criteria listed by collegeboard. This includes proper program functionality, data abstraction, managing complexity, procedural abstraction, algorithm implementation, and testing.\n"
   ]
  },
  {
   "attachments": {},
   "cell_type": "markdown",
   "metadata": {},
   "source": [
    "- I am creating a restaurant locator for my part of the project. This program will allow the user to search for an Indian-themed restaurant near them. A similar function exists in google maps. This program would use an API and the user's location to locate a restaurant and display its location and name."
   ]
  },
  {
   "attachments": {},
   "cell_type": "markdown",
   "metadata": {},
   "source": [
    "## 5.1 Beneficial and Harmful Effects\n",
    "- Benefits:\n",
    "> Restaurant Locator (Me): The benefits of the restaurant locator is that it can find Indian resturants near you. It can get quite frustrating to find an Indian restaurants as they are quite rare in the US and this program makes it very easy to find these restaurants.\n",
    ">\n",
    "> Parametric Recipe Finder (Harsha): The benefits of the project is that it can find recipes based on what the user has at home. It makes it convienient for them to make good food when they need it or if they cannot go and shop for new ingredients.\n",
    ">\n",
    "> Measurement Calculator (Colin): The benefits of the measurement calculator is that it is an easy-to-use converting device. instead of searching it up and being confused on how to do it, you can simply put the number in this calculator and it will correctly display the volume/mass.\n",
    ">\n",
    "> Recipies with a Portion Calculator (Keira): The benefits of the portion calculator is that it shows the ingredients and portions required for user input servings for food the user wants to make. Instead of guessing the correct portions and not knowing how much you need to make, simply use this calculator and it’ll show just how much to make for how many people.\n",
    "\n"
   ]
  },
  {
   "attachments": {},
   "cell_type": "markdown",
   "metadata": {},
   "source": [
    "- Potential Harmful effect (of our projects):\n",
    "\n",
    "> A potential harmful effect for all our projects are that users might overuse our things to the point that they do not know how to cook themselves. Overusing it can cause users to rely too heavily and disable their ability to learn cooking.\n"
   ]
  },
  {
   "attachments": {},
   "cell_type": "markdown",
   "metadata": {},
   "source": [
    "\n",
    "## 5.2 Questions\n",
    "\n",
    "- How does someone empower themself in a digital world?\n",
    "\n",
    ">People can empower themselves in a adigital world by acchiving a form of entry into this world. An electronic device is a requirement when entering such a world.\n",
    "\n",
    "- How does someone that is empowered help someone that is not empowered? Describe something you could do at Del Norte HS.\n",
    "\n",
    ">People can help each other by teaching them about what they do to empower themselves in a digital world (such as being aware of the effects of the device, making it better for you, etc.) In a school specifically, people can ask class teachers to teach more about device use and advice they can give about that.\n",
    "\n",
    "- Is paper or red tape blocking digital empowerment? Are there such barriers at Del Norte? Elsewhere?\n",
    "\n",
    ">Paper somewhat blocks digital empowerment because it controls what can and cannot be done digitally. We take math and science tests in Del Norte using Paper primarily. Elsewhere, a few companies still use paper to send reports and mail to other companies/customers. There are also countries that cannot afford devices so they have to use paper as it is much cheaper.\n",
    "\n",
    "- What are pros/cons on internet blockers at router and lack of admin password on lab machines at school?\n",
    "\n",
    ">The pros of the internet blocker is that people cannot search up age restricted or inappropriate stuff at school. However the cons of internet blocker is that people cannot access certian websites that could help them with what they are doing (projects, school homework, etc.), which prevents them from learning more. The lack of admin password on lab machines at school is not good because you don’t exactly know who is accessing that machine at that time. However, the pros of it is that people can access it a little easier rather than inputting their username/passwords a lot.\n",
    "\n",
    "- What concerns do you have personally about the digital divide? For yourself or for others.\n",
    "\n",
    ">I have concerns about the digital divide because some people can afford devices but others cannot. This further seperates the rich and the poor because as digital empowerment increases more places are going to demand (require) that you have a device, which some people simply cannot afford. Additionally, people also will get more and more addicted to their devices and become completely reliant on them."
   ]
  }
 ],
 "metadata": {
  "kernelspec": {
   "display_name": "Python 3",
   "language": "python",
   "name": "python3"
  },
  "language_info": {
   "name": "python",
   "version": "3.8.10 (default, Jun 22 2022, 20:18:18) \n[GCC 9.4.0]"
  },
  "orig_nbformat": 4,
  "vscode": {
   "interpreter": {
    "hash": "916dbcbb3f70747c44a77c7bcd40155683ae19c65e1c03b4aa3499c5328201f1"
   }
  }
 },
 "nbformat": 4,
 "nbformat_minor": 2
}
