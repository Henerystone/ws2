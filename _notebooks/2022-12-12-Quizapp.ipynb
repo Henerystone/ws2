{
 "cells": [
  {
   "cell_type": "markdown",
   "metadata": {},
   "source": [
    "# App Chess quiz\n",
    "- toc: true\n",
    "- comments: true\n",
    "- permalink: /chesscode/app\n",
    "- categories: [chesscode]\n",
    "- images: /images/Chess_quiz.png"
   ]
  },
  {
   "cell_type": "markdown",
   "metadata": {},
   "source": [
    " This is a Chess quiz made in Code.org with javascript block code. The chess quiz is a quiz about some of the more advanced principles of chess. It questions the user about all the advanced aspects of chess and some more. The quiz contains 3 questions with interesting pictures and backgrounds, offering a scam prize at the end. A fun and interactive quiz to waste time with."
   ]
  },
  {
   "cell_type": "markdown",
   "metadata": {},
   "source": [
    "### Steps:\n",
    "1) Design - Several \"on event\" functions that add simplicity in the program.\n",
    "2) Brainstorm - Brainstorm and come up with the idea of the quiz questions.\n",
    "3) Implementation - Integrate the quiz questions with the code.\n",
    "4) Finishing - Clean up the code and finish the program."
   ]
  },
  {
   "cell_type": "markdown",
   "metadata": {},
   "source": [
    "### Problems:\n",
    "\n",
    "> Technical and understanding issues were frequent: experimentation and brainstorming cleared doubts and problems with code and understanding.\n",
    "\n",
    "### Link to app:\n",
    "https://studio.code.org/projects/applab/sDfuUPMCN4YWUzTMEib8_75gHe-4DmruDFdt0wbY-7k/edit"
   ]
  }
 ],
 "metadata": {
  "kernelspec": {
   "display_name": "Python 3.8.10 64-bit",
   "language": "python",
   "name": "python3"
  },
  "language_info": {
   "name": "python",
   "version": "3.8.10"
  },
  "orig_nbformat": 4,
  "vscode": {
   "interpreter": {
    "hash": "31f2aee4e71d21fbe5cf8b01ff0e069b9275f58929596ceb00d14d90e3e16cd6"
   }
  }
 },
 "nbformat": 4,
 "nbformat_minor": 2
}
