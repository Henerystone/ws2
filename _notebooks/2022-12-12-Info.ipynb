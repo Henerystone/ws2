{
 "cells": [
  {
   "cell_type": "markdown",
   "metadata": {},
   "source": [
    "# Dictionary but Chess\n",
    "- toc: true\n",
    "- comments: true\n",
    "- permalink: /chesscode/info\n",
    "- categories: [chesscode]"
   ]
  },
  {
   "cell_type": "code",
   "execution_count": 2,
   "metadata": {},
   "outputs": [
    {
     "name": "stdout",
     "output_type": "stream",
     "text": [
      "[{'FirstName': 'g', 'LastName': 'h', 'Ranking': ['k']}, {'FirstName': 'Sunny', 'LastName': 'Naidu', 'Class': 'APCSP', 'Grade': 'Freshman', 'Favorite Food': ['Pizza']}]\n"
     ]
    }
   ],
   "source": [
    "# Define an empty List called InfoDb\n",
    "InfoDb = []\n",
    "\n",
    "Name = input(\"First Name: \")\n",
    "Lastn = input(\"Last Name: \")\n",
    "rank = input(\"What is your chess ranking? \")\n",
    "# InfoDB is a data structure with expected Keys and Values\n",
    "\n",
    "# Append to List a Dictionary of key/values related to a person and cars\n",
    "InfoDb.append({\n",
    "    \"FirstName\": Name,\n",
    "    \"LastName\": Lastn,\n",
    "    \"Ranking\": [rank]\n",
    "})\n",
    "\n",
    "# Append to List a 2nd Dictionary of key/values\n",
    "InfoDb.append({\n",
    "    \"FirstName\": \"Barry\",\n",
    "    \"LastName\": \"Smith\",\n",
    "    \"Class\": \"APCSP\",\n",
    "    \"Grade\": \"Freshman\",\n",
    "    \"Favorite Food\": [\"Pizza\"]\n",
    "})\n",
    "# Print the data structure\n",
    "print(InfoDb)"
   ]
  }
 ],
 "metadata": {
  "kernelspec": {
   "display_name": "Python 3.8.10 64-bit",
   "language": "python",
   "name": "python3"
  },
  "language_info": {
   "codemirror_mode": {
    "name": "ipython",
    "version": 3
   },
   "file_extension": ".py",
   "mimetype": "text/x-python",
   "name": "python",
   "nbconvert_exporter": "python",
   "pygments_lexer": "ipython3",
   "version": "3.8.10"
  },
  "orig_nbformat": 4,
  "vscode": {
   "interpreter": {
    "hash": "916dbcbb3f70747c44a77c7bcd40155683ae19c65e1c03b4aa3499c5328201f1"
   }
  }
 },
 "nbformat": 4,
 "nbformat_minor": 2
}
