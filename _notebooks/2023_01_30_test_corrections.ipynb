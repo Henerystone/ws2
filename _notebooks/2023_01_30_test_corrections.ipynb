{
 "cells": [
  {
   "attachments": {},
   "cell_type": "markdown",
   "metadata": {},
   "source": [
    "# Test Corrections\n",
    "\n",
    "- toc: true\n",
    "- comments: true\n",
    "- permalink: /techtalk/test_correct\n",
    "- image: /images/bash.jpeg\n",
    "- categories: [techtalk]"
   ]
  },
  {
   "attachments": {},
   "cell_type": "markdown",
   "metadata": {},
   "source": [
    "## Corrections\n",
    "\n",
    "- Question 1: In this question I did not thoroughly analyze the situation and made a silly mistake not fully reading the question.\n",
    "\n",
    "- Question 2: Again, I did not fully look at the situation and did not see that count is set to 0 in each iteration in the situation and the best way to make the program work was to move line 5 between 2 and 3.\n",
    "\n",
    "- Question 8: In this question I did not notice that I had to chose 2 answers and thought I only had to chose 1.\n",
    "\n",
    "- Question 10: In this question I made a silly mistake and selected the AND option instead of the OR option\n",
    "\n",
    "- Question 13: In this question I just made a mistake and did not read the question properly.\n",
    "\n",
    "- Question 15: This question was also solved in haste and I failed to make sense of the question.\n",
    "\n",
    "- Question 16: In this question I did not fully understand the meaning of the options given and did not consider selection when deciding my response.\n",
    "\n",
    "- Question 17: I did not realise that I had to chose 2 answers as a response to the question.\n",
    "\n",
    "- Question 21: I did not add the numbers properly in my head while thinking of the answer to the question.\n",
    "\n",
    "- Question 22: I did not perform mental maths properly in this question.\n",
    "\n",
    "- Question 28: In this question, I did not properly observe the scenario and rushed the question.\n",
    "\n",
    "- Question 29: In this question, I again did not read the question properly and made a silly mistake.\n",
    "\n",
    "- Question 30: I did not see that I had to select two answers.\n",
    "\n",
    "- Question 32: I did not perform correct metal maths for this question.\n",
    "\n",
    "- Question 34: for this question I had the understanding of the concept inccorect and did not understand the question.\n",
    "\n",
    "- Question 35: for this question I again had a conceptual error.\n",
    "\n",
    "- Question 40: I modeled the situation inccorectly in my head for this question.\n",
    "\n",
    "- Question 49: I did not fully read the situation for the problem.\n",
    "\n",
    "- Question 50: I did not fully understand the situation for the problem."
   ]
  }
 ],
 "metadata": {
  "kernelspec": {
   "display_name": "Python 3",
   "language": "python",
   "name": "python3"
  },
  "language_info": {
   "name": "python",
   "version": "3.8.10 (default, Jun 22 2022, 20:18:18) \n[GCC 9.4.0]"
  },
  "orig_nbformat": 4,
  "vscode": {
   "interpreter": {
    "hash": "916dbcbb3f70747c44a77c7bcd40155683ae19c65e1c03b4aa3499c5328201f1"
   }
  }
 },
 "nbformat": 4,
 "nbformat_minor": 2
}
